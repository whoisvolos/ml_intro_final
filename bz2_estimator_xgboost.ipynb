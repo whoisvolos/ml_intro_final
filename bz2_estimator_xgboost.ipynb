{
 "cells": [
  {
   "cell_type": "code",
   "execution_count": 38,
   "metadata": {
    "collapsed": false
   },
   "outputs": [],
   "source": [
    "import xgboost as xgb\n",
    "import pandas as pd\n",
    "import numpy as np\n",
    "from sklearn.cross_validation import KFold\n",
    "from sklearn.metrics import roc_auc_score\n",
    "from sklearn.preprocessing import StandardScaler\n",
    "from sklearn.linear_model import LogisticRegression\n",
    "from sklearn.ensemble import RandomForestClassifier, ExtraTreesClassifier"
   ]
  },
  {
   "cell_type": "code",
   "execution_count": 39,
   "metadata": {
    "collapsed": false
   },
   "outputs": [
    {
     "name": "stdout",
     "output_type": "stream",
     "text": [
      "Loaded\n",
      "Parsing LT = 0\n"
     ]
    },
    {
     "name": "stderr",
     "output_type": "stream",
     "text": [
      "/Library/Python/2.7/site-packages/ipykernel/__main__.py:9: SettingWithCopyWarning: \n",
      "A value is trying to be set on a copy of a slice from a DataFrame\n",
      "\n",
      "See the caveats in the documentation: http://pandas.pydata.org/pandas-docs/stable/indexing.html#indexing-view-versus-copy\n"
     ]
    },
    {
     "name": "stdout",
     "output_type": "stream",
     "text": [
      "Parsing LT = 0 done\n",
      "Parsing LT = 1\n",
      "Parsing LT = 1 done\n",
      "Parsing LT = 2\n",
      "Parsing LT = 2 done\n"
     ]
    }
   ],
   "source": [
    "data = pd.read_csv('data/new_features.csv', index_col='match_id')\n",
    "print \"Loaded\"\n",
    "datasets = {}\n",
    "sc = StandardScaler()\n",
    "for lt in [0, 1, 2]:\n",
    "    print \"Parsing LT = %d\" % lt\n",
    "    data_cur = data[data['lobby_type'] == lt]\n",
    "    y = data_cur['radiant_win'].as_matrix()\n",
    "    data_cur.drop(['radiant_win', 'lobby_type'], axis=1, inplace=True)\n",
    "    data_cur = StandardScaler().fit_transform(data_cur)\n",
    "    datasets[lt] = (data_cur, y)\n",
    "    data = data[data['lobby_type'] != lt]\n",
    "    print \"Parsing LT = %d done\" % lt"
   ]
  },
  {
   "cell_type": "code",
   "execution_count": 42,
   "metadata": {
    "collapsed": false
   },
   "outputs": [
    {
     "name": "stdout",
     "output_type": "stream",
     "text": [
      "Training classifier for LT = 2, c = (0.025, 'l1')\n",
      "0.72056069958\n",
      "0.716448867963\n",
      "0.722564288168\n",
      "0.710761227908\n",
      "0.707179820848\n",
      "ROC AUC mean for LT = 2: 0.715502980894\n",
      "Training classifier for LT = 0, c = (0.001, 'l2')\n",
      "0.744008234402\n",
      "0.760637400794\n",
      "0.748654539508\n",
      "0.730400703871\n",
      "0.738433389758\n",
      "ROC AUC mean for LT = 0: 0.744426853666\n",
      "Training classifier for LT = 1, c = (0.00025, 'l2')\n",
      "0.773353508995\n",
      "0.776308095498\n",
      "0.773902311689\n",
      "0.773238846541\n",
      "0.784049151221\n",
      "ROC AUC mean for LT = 1: 0.776170382789\n"
     ]
    }
   ],
   "source": [
    "n_folds = 5\n",
    "c = {\n",
    "    0 : (0.001, 'l2'),\n",
    "    1 : (0.00025, 'l2'),\n",
    "    2 : (0.025, 'l1')\n",
    "}\n",
    "for lt in [2, 0, 1]:\n",
    "    data, y = datasets[lt]\n",
    "    cv = KFold(n=data.shape[0], n_folds=n_folds, shuffle=True)\n",
    "    print \"Training classifier for LT = {}, c = {}\".format(lt, c[lt])\n",
    "    auc_mean = 0.0\n",
    "    for train_idx, test_idx in cv:\n",
    "        C, penalty = c[lt]\n",
    "        clf = LogisticRegression(C=C, penalty=penalty)\n",
    "        clf.fit(data[train_idx], y[train_idx])\n",
    "        y_pred = clf.predict_proba(data[test_idx])[:, 1]\n",
    "        score = roc_auc_score(y[test_idx], y_pred)\n",
    "        print score\n",
    "        auc_mean += score\n",
    "    auc_mean = auc_mean / float(n_folds)\n",
    "    print \"ROC AUC mean for LT = {}: {}\".format(lt, auc_mean)"
   ]
  },
  {
   "cell_type": "code",
   "execution_count": null,
   "metadata": {
    "collapsed": true
   },
   "outputs": [],
   "source": []
  }
 ],
 "metadata": {
  "kernelspec": {
   "display_name": "Python 2",
   "language": "python",
   "name": "python2"
  },
  "language_info": {
   "codemirror_mode": {
    "name": "ipython",
    "version": 2
   },
   "file_extension": ".py",
   "mimetype": "text/x-python",
   "name": "python",
   "nbconvert_exporter": "python",
   "pygments_lexer": "ipython2",
   "version": "2.7.6"
  }
 },
 "nbformat": 4,
 "nbformat_minor": 0
}
