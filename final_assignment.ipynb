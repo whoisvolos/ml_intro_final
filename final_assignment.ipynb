{
 "cells": [
  {
   "cell_type": "code",
   "execution_count": 13,
   "metadata": {
    "collapsed": true
   },
   "outputs": [],
   "source": [
    "import numpy as np\n",
    "import pandas as pd\n",
    "import matplotlib.pyplot as plt\n",
    "%matplotlib inline"
   ]
  },
  {
   "cell_type": "code",
   "execution_count": 14,
   "metadata": {
    "collapsed": false
   },
   "outputs": [],
   "source": [
    "data = pd.read_csv(\"data/features.csv\", index_col=\"match_id\")"
   ]
  },
  {
   "cell_type": "code",
   "execution_count": 15,
   "metadata": {
    "collapsed": false
   },
   "outputs": [
    {
     "name": "stdout",
     "output_type": "stream",
     "text": [
      "97230\n"
     ]
    }
   ],
   "source": [
    "data_size = data.shape[0]\n",
    "print data_size"
   ]
  },
  {
   "cell_type": "code",
   "execution_count": 16,
   "metadata": {
    "collapsed": false
   },
   "outputs": [],
   "source": [
    "nan_columns = [c for c in data.columns if data[c].count() < data_size]\n",
    "min_columns = zip(nan_columns, (data[c].min() for c in nan_columns))"
   ]
  },
  {
   "cell_type": "code",
   "execution_count": 17,
   "metadata": {
    "collapsed": false
   },
   "outputs": [
    {
     "data": {
      "text/plain": [
       "(['first_blood_time',\n",
       "  'first_blood_team',\n",
       "  'first_blood_player1',\n",
       "  'first_blood_player2',\n",
       "  'radiant_bottle_time',\n",
       "  'radiant_courier_time',\n",
       "  'radiant_flying_courier_time',\n",
       "  'radiant_first_ward_time',\n",
       "  'dire_bottle_time',\n",
       "  'dire_courier_time',\n",
       "  'dire_flying_courier_time',\n",
       "  'dire_first_ward_time'],\n",
       " [('first_blood_time', -78.0),\n",
       "  ('first_blood_team', 0.0),\n",
       "  ('first_blood_player1', 0.0),\n",
       "  ('first_blood_player2', 0.0),\n",
       "  ('radiant_bottle_time', -37.0),\n",
       "  ('radiant_courier_time', -90.0),\n",
       "  ('radiant_flying_courier_time', 180.0),\n",
       "  ('radiant_first_ward_time', -236.0),\n",
       "  ('dire_bottle_time', -45.0),\n",
       "  ('dire_courier_time', -90.0),\n",
       "  ('dire_flying_courier_time', 180.0),\n",
       "  ('dire_first_ward_time', -84.0)])"
      ]
     },
     "execution_count": 17,
     "metadata": {},
     "output_type": "execute_result"
    }
   ],
   "source": [
    "nan_columns, min_columns"
   ]
  },
  {
   "cell_type": "code",
   "execution_count": 18,
   "metadata": {
    "collapsed": false
   },
   "outputs": [],
   "source": [
    "for c in nan_columns:\n",
    "    mean_rw = data[data['radiant_win'] == 1][c].mean()\n",
    "    mean_rl = data[data['radiant_win'] == 0][c].mean()\n",
    "    data.loc[(data[c].isnull()) & (data['radiant_win'] == 1), c] = mean_rw\n",
    "    data.loc[(data[c].isnull()) & (data['radiant_win'] == 0), c] = mean_rl"
   ]
  },
  {
   "cell_type": "code",
   "execution_count": 19,
   "metadata": {
    "collapsed": false
   },
   "outputs": [],
   "source": [
    "data = data[data['radiant_first_ward_time'] >= -90] # просто удалим запись с выбросом\n",
    "data_size = data.shape[0]"
   ]
  },
  {
   "cell_type": "code",
   "execution_count": 26,
   "metadata": {
    "collapsed": false
   },
   "outputs": [],
   "source": [
    "X_pick = np.zeros(shape=(data_size, 112))\n",
    "for i, match_id in enumerate(data.index):\n",
    "    for p in xrange(5):\n",
    "        X_pick[i, data.ix[match_id, 'r%d_hero' % (p+1)]-1] = 1\n",
    "        X_pick[i, data.ix[match_id, 'd%d_hero' % (p+1)]-1] = -1"
   ]
  },
  {
   "cell_type": "code",
   "execution_count": 28,
   "metadata": {
    "collapsed": true
   },
   "outputs": [],
   "source": [
    "del data['lobby_type']\n",
    "for x in range(1, 6):\n",
    "    del data['r{0}_hero'.format(x)]\n",
    "    del data['d{0}_hero'.format(x)]"
   ]
  },
  {
   "cell_type": "code",
   "execution_count": 29,
   "metadata": {
    "collapsed": true
   },
   "outputs": [],
   "source": [
    "del data['duration']\n",
    "del data['tower_status_radiant']\n",
    "del data['tower_status_dire']\n",
    "del data['barracks_status_radiant']\n",
    "del data['barracks_status_dire']"
   ]
  },
  {
   "cell_type": "code",
   "execution_count": 30,
   "metadata": {
    "collapsed": true
   },
   "outputs": [],
   "source": [
    "y = data['radiant_win']\n",
    "del data['radiant_win']"
   ]
  },
  {
   "cell_type": "code",
   "execution_count": 31,
   "metadata": {
    "collapsed": false
   },
   "outputs": [],
   "source": [
    "from sklearn.preprocessing import StandardScaler\n",
    "from sklearn.linear_model import LogisticRegression\n",
    "from sklearn.metrics import roc_auc_score\n",
    "from sklearn.grid_search import GridSearchCV\n",
    "from sklearn.cross_validation import KFold"
   ]
  },
  {
   "cell_type": "code",
   "execution_count": 32,
   "metadata": {
    "collapsed": false
   },
   "outputs": [],
   "source": [
    "data = StandardScaler().fit_transform(data)"
   ]
  },
  {
   "cell_type": "code",
   "execution_count": 33,
   "metadata": {
    "collapsed": false
   },
   "outputs": [],
   "source": [
    "cv = KFold(n=data_size, n_folds=5, shuffle=True)"
   ]
  },
  {
   "cell_type": "code",
   "execution_count": 34,
   "metadata": {
    "collapsed": false
   },
   "outputs": [],
   "source": [
    "auc_mean = 0.0\n",
    "for train_idx, test_idx in cv:\n",
    "    clf = LogisticRegression(penalty=\"l2\", C=0.01)\n",
    "    clf.fit(data[train_idx], y.iloc[train_idx])\n",
    "    y_pred = clf.predict_proba(data[test_idx])[:, 1]\n",
    "    auc_mean += roc_auc_score(y.iloc[test_idx], y_pred)\n",
    "auc_mean = auc_mean / 5.0    "
   ]
  },
  {
   "cell_type": "code",
   "execution_count": 35,
   "metadata": {
    "collapsed": false
   },
   "outputs": [
    {
     "name": "stdout",
     "output_type": "stream",
     "text": [
      "0.72059063058\n"
     ]
    }
   ],
   "source": [
    "print auc_mean"
   ]
  },
  {
   "cell_type": "code",
   "execution_count": 40,
   "metadata": {
    "collapsed": false
   },
   "outputs": [],
   "source": [
    "data = np.hstack((data, X_pick))"
   ]
  },
  {
   "cell_type": "code",
   "execution_count": 45,
   "metadata": {
    "collapsed": true
   },
   "outputs": [],
   "source": [
    "auc_mean = 0.0\n",
    "for train_idx, test_idx in cv:\n",
    "    clf = LogisticRegression(penalty=\"l2\", C=0.05)\n",
    "    clf.fit(data[train_idx], y.iloc[train_idx])\n",
    "    y_pred = clf.predict_proba(data[test_idx])[:, 1]\n",
    "    auc_mean += roc_auc_score(y.iloc[test_idx], y_pred)\n",
    "auc_mean = auc_mean / 5.0"
   ]
  },
  {
   "cell_type": "code",
   "execution_count": 46,
   "metadata": {
    "collapsed": false
   },
   "outputs": [
    {
     "name": "stdout",
     "output_type": "stream",
     "text": [
      "0.754522826975\n"
     ]
    }
   ],
   "source": [
    "print auc_mean"
   ]
  },
  {
   "cell_type": "code",
   "execution_count": 48,
   "metadata": {
    "collapsed": true
   },
   "outputs": [],
   "source": [
    "from sklearn.ensemble import GradientBoostingRegressor"
   ]
  },
  {
   "cell_type": "code",
   "execution_count": 53,
   "metadata": {
    "collapsed": false
   },
   "outputs": [
    {
     "name": "stdout",
     "output_type": "stream",
     "text": [
      "      Iter       Train Loss   Remaining Time \n",
      "         1           0.2246            1.01m\n",
      "         2           0.2043           58.42s\n",
      "         3           0.1879           56.60s\n",
      "         4           0.1744           54.18s\n",
      "         5           0.1633           52.15s\n",
      "         6           0.1542           49.88s\n",
      "         7           0.1467           47.83s\n",
      "         8           0.1405           45.91s\n",
      "         9           0.1354           43.91s\n",
      "        10           0.1312           41.81s\n",
      "        20           0.1004           21.95s\n",
      "        30           0.0829            0.00s\n",
      "      Iter       Train Loss   Remaining Time \n",
      "         1           0.2246            1.02m\n",
      "         2           0.2043           58.02s\n",
      "         3           0.1878           55.83s\n",
      "         4           0.1743           53.47s\n",
      "         5           0.1633           50.98s\n",
      "         6           0.1542           48.63s\n",
      "         7           0.1467           46.58s\n",
      "         8           0.1405           44.62s\n",
      "         9           0.1354           42.59s\n",
      "        10           0.1312           40.56s\n",
      "        20           0.1008           21.15s\n",
      "        30           0.0825            0.00s\n",
      "      Iter       Train Loss   Remaining Time \n",
      "         1           0.2246            1.00m\n",
      "         2           0.2043           57.70s\n",
      "         3           0.1878           55.54s\n",
      "         4           0.1743           53.46s\n",
      "         5           0.1633           51.33s\n",
      "         6           0.1541           49.26s\n",
      "         7           0.1467           47.22s\n",
      "         8           0.1405           45.15s\n",
      "         9           0.1354           43.05s\n",
      "        10           0.1311           41.01s\n",
      "        20           0.1021           21.08s\n",
      "        30           0.0830            0.00s\n",
      "      Iter       Train Loss   Remaining Time \n",
      "         1           0.2246            1.01m\n",
      "         2           0.2044           57.62s\n",
      "         3           0.1880           55.16s\n",
      "         4           0.1745           52.95s\n",
      "         5           0.1635           50.89s\n",
      "         6           0.1544           48.91s\n",
      "         7           0.1469           46.81s\n",
      "         8           0.1408           44.85s\n",
      "         9           0.1357           42.80s\n",
      "        10           0.1315           40.74s\n",
      "        20           0.1022           22.23s\n",
      "        30           0.0827            0.00s\n",
      "      Iter       Train Loss   Remaining Time \n",
      "         1           0.2246            1.13m\n",
      "         2           0.2043            1.13m\n",
      "         3           0.1879            1.04m\n",
      "         4           0.1744           58.47s\n",
      "         5           0.1634            1.05m\n",
      "         6           0.1542           58.93s\n",
      "         7           0.1468           55.19s\n",
      "         8           0.1406           51.86s\n",
      "         9           0.1355           48.87s\n",
      "        10           0.1313           46.04s\n",
      "        20           0.1017           23.49s\n",
      "        30           0.0821            0.00s\n"
     ]
    }
   ],
   "source": [
    "auc_mean = 0.0\n",
    "for train_idx, test_idx in cv:\n",
    "    clf = GradientBoostingRegressor(n_estimators=30, verbose=True)\n",
    "    clf.fit(data[train_idx], y.iloc[train_idx])\n",
    "    y_pred = clf.predict(data[test_idx])\n",
    "    auc_mean += roc_auc_score(y.iloc[test_idx], y_pred)\n",
    "auc_mean = auc_mean / 5.0"
   ]
  },
  {
   "cell_type": "code",
   "execution_count": 54,
   "metadata": {
    "collapsed": false
   },
   "outputs": [
    {
     "data": {
      "text/plain": [
       "0.96945287650104617"
      ]
     },
     "execution_count": 54,
     "metadata": {},
     "output_type": "execute_result"
    }
   ],
   "source": [
    "auc_mean"
   ]
  },
  {
   "cell_type": "code",
   "execution_count": null,
   "metadata": {
    "collapsed": true
   },
   "outputs": [],
   "source": []
  }
 ],
 "metadata": {
  "kernelspec": {
   "display_name": "Python 2",
   "language": "python",
   "name": "python2"
  },
  "language_info": {
   "codemirror_mode": {
    "name": "ipython",
    "version": 2
   },
   "file_extension": ".py",
   "mimetype": "text/x-python",
   "name": "python",
   "nbconvert_exporter": "python",
   "pygments_lexer": "ipython2",
   "version": "2.7.8"
  }
 },
 "nbformat": 4,
 "nbformat_minor": 0
}
